{
 "cells": [
  {
   "cell_type": "code",
   "execution_count": 1,
   "metadata": {},
   "outputs": [],
   "source": [
    "from ConstructBST import *"
   ]
  },
  {
   "cell_type": "markdown",
   "metadata": {},
   "source": [
    "# Data Struture\n",
    "\n",
    "## Tree\n",
    "\n",
    "**Definition** Tree:\n",
    "\n",
    "1. An empty struture is an empty tree.\n",
    "2. If $t_{1}, ... ,t_{k}$ are disjoint trees, then the struture whose root has the root of $t_{i}, ..., t_{k}$ as children is also a tree\n",
    "\n",
    "the structure of the tree is constructed recursively through this process.\n",
    "\n",
    "**Definition** level:\n",
    "\n",
    "the length of the path from the root to the node + 1.\n",
    "\n",
    "Tree struture is used to represent hierarchical structures. For structre like linked lists, we need to search the whole list even if it's ordered.\n",
    "\n",
    "*binary tree* : a tree whose nodes have at most two children. Instances are like decision tree : each node has either 0 or 2 children.\n",
    "\n",
    "**Theroem** : For all nonempty binary trees whose nonterminal nodes hace exactly two children, the number of leaves m is greater than the number of nonterminal nodes k and m = k + 1.\n",
    "\n",
    "**Proof** : For a single root, it holds trivially. If holds for a certain tree, when we attach two leaves to one of the existing leaves, this leaf turns into a nonterminal node. The change is : k = k + 1; m = m + 2 - 1(conversion).\n",
    "\n",
    "*binary search tree*: For each node n, all values stored in its left subtree are less than values stored in n; all values stored in its right subtree are greater than values stored in n."
   ]
  },
  {
   "cell_type": "code",
   "execution_count": 2,
   "metadata": {},
   "outputs": [
    {
     "name": "stdout",
     "output_type": "stream",
     "text": [
      "8\n"
     ]
    }
   ],
   "source": [
    "# class of binary search tree (BST)\n",
    "# class TreeNode:\n",
    "#     def __init__(self, key = 0):\n",
    "#         self.val = key\n",
    "#         self.left = None\n",
    "#         slef.right = None\n",
    "        \n",
    "tree = r\"[8, 5, 12, 2, 6, 9, 15, null, null, null, null, null, null, 13, null]\"\n",
    "root = stringToTreeNode(tree)\n",
    "print(root.val)"
   ]
  },
  {
   "cell_type": "markdown",
   "metadata": {},
   "source": [
    "### Search"
   ]
  },
  {
   "cell_type": "code",
   "execution_count": 3,
   "metadata": {},
   "outputs": [
    {
     "name": "stdout",
     "output_type": "stream",
     "text": [
      "2\n"
     ]
    }
   ],
   "source": [
    "def searchBST(self, key):\n",
    "    assert hasattr(self, \"val\"), \"must be a BST Node\"\n",
    "    p = self\n",
    "    while p is not None :\n",
    "        if p.val == key:\n",
    "            return p\n",
    "        elif p.val < key:\n",
    "            p = p.right\n",
    "        elif p.val > key:\n",
    "            p = p.left\n",
    "    return None\n",
    "\n",
    "TreeNode.search = searchBST\n",
    "result = root.search(2)\n",
    "print(result.val)"
   ]
  },
  {
   "cell_type": "markdown",
   "metadata": {},
   "source": [
    "### Tree traversal\n",
    "\n",
    "traversal is the process of visiting each node in the tree exactly one time.\n",
    "\n",
    "#### BFS\n",
    "\n",
    "visit each node starting from the lowest(highest) level and moving down(up) level by level. You can use a queue to process all the nodes."
   ]
  },
  {
   "cell_type": "code",
   "execution_count": 4,
   "metadata": {},
   "outputs": [
    {
     "name": "stdout",
     "output_type": "stream",
     "text": [
      "[8, 5, 12, 2, 6, 9, 15, 13]\n"
     ]
    }
   ],
   "source": [
    "import queue\n",
    "\n",
    "def traversalBFS(self):\n",
    "    values = []\n",
    "    q = queue.Queue()\n",
    "    p = self\n",
    "    if p is not None:\n",
    "        q.put(p)\n",
    "        while not q.empty() :\n",
    "            p = q.get()\n",
    "            values.append(p.val)\n",
    "            if p.left is not None:\n",
    "                q.put(p.left)\n",
    "            if p.right is not None:\n",
    "                q.put(p.right)\n",
    "    return values\n",
    "\n",
    "TreeNode.traversalBFS = traversalBFS\n",
    "values = root.traversalBFS()\n",
    "print(values)"
   ]
  },
  {
   "cell_type": "markdown",
   "metadata": {},
   "source": [
    "#### DFS\n",
    "\n",
    "preorder traversal form, process the current node before going into its children. *All the stacks in the following mehod can be set as an attribute in the TreeNode class.*\n",
    "\n",
    ">Note: this is not in a recursive form."
   ]
  },
  {
   "cell_type": "code",
   "execution_count": 5,
   "metadata": {},
   "outputs": [
    {
     "name": "stdout",
     "output_type": "stream",
     "text": [
      "[8, 5, 2, 6, 12, 9, 15, 13]\n"
     ]
    }
   ],
   "source": [
    "values = []\n",
    "\n",
    "def pre_traversalDFS(self):\n",
    "    stack = []\n",
    "    stack.append(self)\n",
    "    while len(stack)!=0:\n",
    "        p = stack.pop()\n",
    "        # process the node here\n",
    "        values.append(p.val)\n",
    "        if p.right is not None:\n",
    "            stack.append(p.right)\n",
    "        if p.left is not None:\n",
    "            stack.append(p.left)\n",
    "\n",
    "TreeNode.pre_traversalDFS = pre_traversalDFS\n",
    "root.pre_traversalDFS()\n",
    "print(values)"
   ]
  },
  {
   "cell_type": "markdown",
   "metadata": {},
   "source": [
    "Sometimes, we want to process the nodes in order. *For pre-traverse and post-traverse, just switch the place of process code and traverse code.*\n",
    "\n",
    "> Look, we traverse the nodes in order. This traversal method can be used to check whether it's a binary search tree.\n",
    "\n",
    "Non-recursive version of inorder-traversal "
   ]
  },
  {
   "cell_type": "code",
   "execution_count": 6,
   "metadata": {},
   "outputs": [
    {
     "name": "stdout",
     "output_type": "stream",
     "text": [
      "[2, 5, 6, 8, 9, 12, 13, 15]\n"
     ]
    }
   ],
   "source": [
    "values.clear()\n",
    "def inorder_traversal(self):\n",
    "    trav_stack = []\n",
    "    p = self\n",
    "    while p is not None:\n",
    "        while p is not None:\n",
    "            if p.right is not None:\n",
    "                trav_stack.append(p.right)\n",
    "            trav_stack.append(p)\n",
    "            p = p.left\n",
    "        p = trav_stack.pop()\n",
    "        while p.right is None and len(trav_stack)!=0:\n",
    "            # process the node here\n",
    "            values.append(p.val)\n",
    "            p = trav_stack.pop()\n",
    "        # process the node here\n",
    "        values.append(p.val)\n",
    "        if trav_stack:\n",
    "            p = trav_stack.pop()\n",
    "        else :\n",
    "            p = None\n",
    "\n",
    "TreeNode.inorder_traversal = inorder_traversal\n",
    "root.inorder_traversal()\n",
    "print(values)"
   ]
  },
  {
   "cell_type": "markdown",
   "metadata": {},
   "source": [
    "However, we can still use non-recursive methods to post-traverse the tree.\n",
    "\n",
    "> Here we add the value of the current node after traversing two children."
   ]
  },
  {
   "cell_type": "code",
   "execution_count": 7,
   "metadata": {},
   "outputs": [
    {
     "name": "stdout",
     "output_type": "stream",
     "text": [
      "[2, 6, 5, 9, 13, 15, 12, 8]\n",
      "4\n"
     ]
    }
   ],
   "source": [
    "values.clear()\n",
    "\n",
    "def post_traversal(self):\n",
    "    trav_stack = []\n",
    "    p = self\n",
    "    q = self\n",
    "    while p is not None:\n",
    "        while p.left is not None:\n",
    "            trav_stack.append(p)\n",
    "            p = p.left\n",
    "        while p is not None and (p.right is None or p.right == q):\n",
    "            # process the node here\n",
    "            values.append(p.val)\n",
    "            q = p\n",
    "            if not trav_stack:\n",
    "                return\n",
    "            p = trav_stack.pop()\n",
    "        trav_stack.append(p)\n",
    "        p = p.right\n",
    "\n",
    "TreeNode.post_traversal = post_traversal\n",
    "root.post_traversal()\n",
    "print(values)\n",
    "\n",
    "# calculate the height of the tree\n",
    "\n",
    "def TreeHeight(self):\n",
    "    trav_stack = []\n",
    "    max_height = 1\n",
    "    p = self\n",
    "    q = self\n",
    "    while p is not None:\n",
    "        while p.left is not None:\n",
    "            trav_stack.append(p)\n",
    "            p = p.left\n",
    "        while p is not None and (p.right is None or p.right == q):\n",
    "            if len(trav_stack)+1 > max_height:\n",
    "                max_height = len(trav_stack)+1\n",
    "            q = p\n",
    "            if not trav_stack:\n",
    "                return max_height\n",
    "            p = trav_stack.pop()\n",
    "        trav_stack.append(p)\n",
    "        p = p.right\n",
    "\n",
    "TreeNode.TreeHeight = TreeHeight\n",
    "print(root.TreeHeight())"
   ]
  },
  {
   "cell_type": "markdown",
   "metadata": {},
   "source": [
    "#### Stackless Tree traversal\n",
    "\n",
    "Since recursive and non-recursive traversal functions both hold a stack implicitly (run-time stack) or explicitly (user hold), it becomes disasterous when the tree is large and unfavorably skewed. We use *threads* in tree nodes. **Threads** are pointers to predecessor and successor of the node. In the following example, I use *right node* as a pointer to successor and *successor* as a sign to denote whether the *right node* points to successor or not.\n",
    "\n",
    "Threaded trees incorporate the stack inside the trees. I use inorder-traversal after constructing the tree to link all the successor if necessary."
   ]
  },
  {
   "cell_type": "code",
   "execution_count": 8,
   "metadata": {},
   "outputs": [
    {
     "name": "stdout",
     "output_type": "stream",
     "text": [
      "[2, 5, 6, 8, 9, 12, 13, 15]\n"
     ]
    }
   ],
   "source": [
    "# class ThreadedNode(TreeNode):\n",
    "#     def __init__(self, key = 0):\n",
    "#         TreeNode.__init__(key)\n",
    "#         self.successor = 1\n",
    "\n",
    "ThreadRoot = ConstructThreadedTree(tree)\n",
    "\n",
    "values.clear()\n",
    "def inorder_thread(self):\n",
    "    prev = None\n",
    "    p = self\n",
    "    if p is not None:\n",
    "        while p.left is not None:\n",
    "            p = p.left\n",
    "        while p is not None:\n",
    "            # process the node here\n",
    "            values.append(p.val)\n",
    "            prev = p\n",
    "            p = p.right\n",
    "            if p is not None and prev.successor == 0:\n",
    "                while p.left is not None:\n",
    "                    p = p.left\n",
    "\n",
    "ThreadedNode.inorder_thread = inorder_thread\n",
    "ThreadRoot.inorder_thread()\n",
    "print(values)"
   ]
  },
  {
   "cell_type": "markdown",
   "metadata": {},
   "source": [
    "Another way to traverse is through tree transformation. Morris Algorithm retains the tree structure while traverse the tree without any stacks.\n",
    "\n",
    "```html\n",
    "MorrisInorder()\n",
    "    while not finished\n",
    "        if node has no left descendant\n",
    "            visit it\n",
    "            go to the right\n",
    "        else \n",
    "            make this node right child of the rightmost child in its left descendant\n",
    "```"
   ]
  },
  {
   "cell_type": "code",
   "execution_count": 9,
   "metadata": {},
   "outputs": [
    {
     "name": "stdout",
     "output_type": "stream",
     "text": [
      "[2, 5, 6, 8, 9, 12, 13, 15]\n"
     ]
    }
   ],
   "source": [
    "values.clear()\n",
    "def MorrisInorder(self):\n",
    "    p = self\n",
    "    tmp = None\n",
    "    while p is not None:\n",
    "        if p.left is None:\n",
    "            # process the node here\n",
    "            values.append(p.val)\n",
    "            p = p.right\n",
    "        else:\n",
    "            tmp = p.left\n",
    "            while tmp.right is not None and tmp.right != p:\n",
    "                tmp = tmp.right\n",
    "            if tmp.right is None:\n",
    "                tmp.right = p # the original relation remains\n",
    "                p = p.left\n",
    "            else:\n",
    "                # process the node here\n",
    "                values.append(p.val)\n",
    "                tmp.right = None # delete relations \n",
    "                p = p.right\n",
    "\n",
    "TreeNode.MorrisInorder = MorrisInorder\n",
    "root.MorrisInorder()\n",
    "print(values)"
   ]
  },
  {
   "cell_type": "markdown",
   "metadata": {},
   "source": [
    "<font size='3'>\n",
    "all algorithms above needs O(n) run-time.\n",
    "\n",
    "| 名称　| 比较 |\n",
    "| :- | :- |\n",
    "|recursive | 1. O(n) run time stack space <br/>2. more intuitive|\n",
    "|iterative | 1. O(n) user defined stack space.|\n",
    "|threaded tree | 1. O(n) more space for successor.|\n",
    "|Morris algorithm | 1. doesn't need extra sapce.(best) |\n",
    "\n",
    "------\n",
    "    \n",
    "### Tree Insertion\n",
    "    \n",
    "insertion for ordinary binary tree is easy. For threaded binadry trees, we need to maintain the threads\n",
    "</font>"
   ]
  },
  {
   "cell_type": "code",
   "execution_count": 10,
   "metadata": {},
   "outputs": [
    {
     "name": "stdout",
     "output_type": "stream",
     "text": [
      "[2, 5, 6, 7, 8, 9, 12, 13, 15]\n",
      "[2, 5, 6, 7, 8, 9, 12, 13, 15]\n"
     ]
    }
   ],
   "source": [
    "def insertion(self, val):\n",
    "    p = self\n",
    "    prev = None\n",
    "    while p is not None:\n",
    "        prev = p\n",
    "        if p.val < val:\n",
    "            p = p.right\n",
    "        elif p.val > val:\n",
    "            p = p.left\n",
    "        else:\n",
    "            print(\"cannot insert the same value\")\n",
    "            raise Exception\n",
    "    if prev.val < val:\n",
    "        prev.right = TreeNode(val)\n",
    "    else:\n",
    "        prev.left = TreeNode(val)\n",
    "\n",
    "TreeNode.insertion = insertion\n",
    "\n",
    "def thread_insert(self, val):\n",
    "    new_node = TreeNode(val)\n",
    "    p = self\n",
    "    prev = None\n",
    "    while p is not None:\n",
    "        prev = p\n",
    "        if p.val > val:\n",
    "            p = p.left\n",
    "        elif p.successor == 0:\n",
    "            p = p.right\n",
    "        elif p.val == val:\n",
    "            print(\"cannot insert the same value\")\n",
    "            raise Exception\n",
    "        else :\n",
    "            break # Don't go the successor link\n",
    "    if prev.val > val:\n",
    "        prev.left = new_node\n",
    "        new_node.successor = 1\n",
    "        new_node.right = prev # left node, add thread\n",
    "    elif prev.successor == 1:\n",
    "        new_node.successor = 1\n",
    "        prev.successor = 0\n",
    "        new_node.right = prev.right\n",
    "        prev.right = new_node # right node, link to the prev successor\n",
    "    else:\n",
    "        prev.right = new_node\n",
    "\n",
    "ThreadedNode.thread_insert = thread_insert\n",
    "\n",
    "root.insertion(7)\n",
    "values.clear()\n",
    "root.MorrisInorder()\n",
    "print(values)\n",
    "ThreadRoot.thread_insert(7)\n",
    "values.clear()\n",
    "ThreadRoot.inorder_thread()\n",
    "print(values)"
   ]
  },
  {
   "cell_type": "markdown",
   "metadata": {},
   "source": [
    "------\n",
    "### Deletion\n",
    "\n",
    "Deletion is easy for nodes who have no or single child. (Just remove the node and link the children if necessary) For nodes who have two children, no one-step operation can be performed.\n",
    "\n",
    "#### Deletion by merging\n",
    "\n",
    "![merge](../img/Program/MergeDelete.jpeg)\n",
    "\n",
    "<br/>\n",
    "\n",
    "<div align=\"center\"><font size='5' color='#ff0000'> Obviously, the height of the tree increases after merging </font></div>"
   ]
  },
  {
   "cell_type": "code",
   "execution_count": 11,
   "metadata": {},
   "outputs": [
    {
     "name": "stdout",
     "output_type": "stream",
     "text": [
      "[2, 5, 6, 7, 9, 12, 13, 15]\n"
     ]
    }
   ],
   "source": [
    "# 'merge' can be used as static method\n",
    "def merge(node):\n",
    "    tmp = node.left\n",
    "    if tmp is None:\n",
    "        return node.right\n",
    "    else :\n",
    "        while tmp.right is not None:\n",
    "            tmp = tmp.right\n",
    "        tmp.right = node.right\n",
    "        return node.left\n",
    "\n",
    "def delete_merge(root, val):\n",
    "    p = root\n",
    "    prev = None\n",
    "    while p is not None and p.val!=val:\n",
    "        prev = p\n",
    "        if val < p.val:\n",
    "            p = p.left\n",
    "        else:\n",
    "            p = p.right\n",
    "    if p is None:\n",
    "        print(\"cannot find the value\")\n",
    "        return\n",
    "    if prev is None:\n",
    "        root = merge(root)\n",
    "    else:\n",
    "        if prev.left == p:\n",
    "            prev.left = merge(p)\n",
    "        else:\n",
    "            prev.right = merge(p)\n",
    "    del p # release the node\n",
    "    return root\n",
    "\n",
    "root = delete_merge(root, 8)\n",
    "values.clear()\n",
    "root.MorrisInorder()\n",
    "print(values)"
   ]
  },
  {
   "cell_type": "markdown",
   "metadata": {},
   "source": [
    "#### Deletion by copying\n",
    "\n",
    "Figure Illustration:\n",
    "\n",
    "<img src=../img/Program/CopyDelete.png />\n",
    "\n",
    "Different from merging two sub trees, Deletion By Copying just copies the predecessor to the current node and leaves the right subtree unchanged. However, this may cause the tree to be unbalanced. Randomly delete the predecessors(in the left subtree) or successor(in the right subtree) is necessary."
   ]
  },
  {
   "cell_type": "code",
   "execution_count": 11,
   "metadata": {},
   "outputs": [
    {
     "name": "stdout",
     "output_type": "stream",
     "text": [
      "[2, 5, 6, 7, 8, 9, 12, 13, 15]\n",
      "4\n"
     ]
    }
   ],
   "source": [
    "import random\n",
    "\n",
    "def delete_copy(root:TreeNode, val):\n",
    "    node = root.search(val)\n",
    "    if node is None:\n",
    "        print('cannot find')\n",
    "    else:\n",
    "        prev = None\n",
    "        p = node\n",
    "        if p.right is None:\n",
    "            node = node.left\n",
    "        elif p.left is None:\n",
    "            node = node.right\n",
    "        else:\n",
    "            s = random.randint(1, 4)\n",
    "            if s%2 == 0: # find the predecessor\n",
    "                prev = node\n",
    "                p = node.left\n",
    "                while p.right is not None:\n",
    "                    prev = p\n",
    "                    p = p.right\n",
    "                node.val = p.val # maybe we will use deep copy here\n",
    "                if prev == node:\n",
    "                    prev.left = p.left\n",
    "                else:\n",
    "                    prev.right = p.left\n",
    "            else: # find the successor\n",
    "                prev = node\n",
    "                p = node.right\n",
    "                while p.left is not None:\n",
    "                    prev = p\n",
    "                    p = p.left\n",
    "                node.val = p.val # maybe we will use deep copy here\n",
    "                if prev == node:\n",
    "                    prev.right = p.right\n",
    "                else:\n",
    "                    prev.left = p.right\n",
    "        del p\n",
    "\n",
    "delete_copy(root, 7)\n",
    "values.clear()\n",
    "root.MorrisInorder()\n",
    "print(values)\n",
    "print(root.TreeHeight())"
   ]
  },
  {
   "cell_type": "markdown",
   "metadata": {},
   "source": [
    "------\n",
    "\n",
    "### Balance A Tree\n",
    "\n",
    "*height-balanced* or *simply balanced* : the difference in height of both subtrees of any node in the tree is either zero or one.\n",
    "\n",
    "You can sort the coming data and the select the median as the root of the tree, which splits the remainig elements into left - right subtrees. The recursive process continues until the tree is constructed.\n",
    "\n",
    "#### DSW Algorithm\n",
    "\n",
    "Rotation operation :\n",
    "\n",
    "<img src=../img/Program/DWS.png />\n",
    "\n",
    "Use rotation to transfigure a tree into a link-like tree (backbone) and then rotate it back.\n",
    "\n",
    "<img src=../img/Program/WSLforward.png />\n",
    "\n",
    "<div align=\"center\"><p> Forward Transform </p></div>\n",
    "\n",
    "<img src=../img/Program/WSLbackward.png />\n",
    "\n",
    "<div align=\"center\"><p> Backward Transform </p></div>\n",
    "\n",
    "#### AVL tree\n",
    "\n",
    "AVL tree: the height of left and right subtree of every node differ by at most one."
   ]
  },
  {
   "cell_type": "code",
   "execution_count": null,
   "metadata": {},
   "outputs": [],
   "source": []
  }
 ],
 "metadata": {
  "kernelspec": {
   "display_name": "Python 3.5.2 64-bit",
   "language": "python",
   "name": "python35264bitec4fc113d9e24df7bf3855d2601f4b2c"
  },
  "language_info": {
   "codemirror_mode": {
    "name": "ipython",
    "version": 3
   },
   "file_extension": ".py",
   "mimetype": "text/x-python",
   "name": "python",
   "nbconvert_exporter": "python",
   "pygments_lexer": "ipython3",
   "version": "3.5.2"
  }
 },
 "nbformat": 4,
 "nbformat_minor": 4
}
