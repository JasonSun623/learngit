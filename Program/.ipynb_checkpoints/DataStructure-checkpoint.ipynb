{
 "cells": [
  {
   "cell_type": "code",
   "execution_count": 1,
   "metadata": {},
   "outputs": [],
   "source": [
    "from ConstructBST import *"
   ]
  },
  {
   "cell_type": "markdown",
   "metadata": {},
   "source": [
    "# Data Struture\n",
    "\n",
    "## Tree\n",
    "\n",
    "**Definition** Tree:\n",
    "\n",
    "1. An empty struture is an empty tree.\n",
    "2. If $t_{1}, ... ,t_{k}$ are disjoint trees, then the struture whose root has the root of $t_{i}, ..., t_{k}$ as children is also a tree\n",
    "\n",
    "the structure of the tree is constructed recursively through this process.\n",
    "\n",
    "**Definition** level:\n",
    "\n",
    "the length of the path from the root to the node + 1.\n",
    "\n",
    "Tree struture is used to represent hierarchical structures. For structre like linked lists, we need to search the whole list even if it's ordered.\n",
    "\n",
    "*binary tree* : a tree whose nodes have at most two children. Instances are like decision tree : each node has either 0 or 2 children.\n",
    "\n",
    "**Theroem** : For all nonempty binary trees whose nonterminal nodes hace exactly two children, the number of leaves m is greater than the number of nonterminal nodes k and m = k + 1.\n",
    "\n",
    "**Proof** : For a single root, it holds trivially. If holds for a certain tree, when we attach two leaves to one of the existing leaves, this leaf turns into a nonterminal node. The change is : k = k + 1; m = m + 2 - 1(conversion).\n",
    "\n",
    "*binary search tree*: For each node n, all values stored in its left subtree are less than values stored in n; all values stored in its right subtree are greater than values stored in n."
   ]
  },
  {
   "cell_type": "code",
   "execution_count": 2,
   "metadata": {},
   "outputs": [
    {
     "name": "stdout",
     "output_type": "stream",
     "text": [
      "8\n"
     ]
    }
   ],
   "source": [
    "# class of binary search tree (BST)\n",
    "# class TreeNode:\n",
    "#     def __init__(self, key = 0):\n",
    "#         self.val = key\n",
    "#         self.left = None\n",
    "#         slef.right = None\n",
    "        \n",
    "tree = r\"[8, 5, 12, 2, 6, 9, 15, null, null, null, null, null, null, 13, 17]\"\n",
    "root = stringToTreeNode(tree)\n",
    "print(root.val)"
   ]
  },
  {
   "cell_type": "markdown",
   "metadata": {},
   "source": [
    "### Search"
   ]
  },
  {
   "cell_type": "code",
   "execution_count": 3,
   "metadata": {},
   "outputs": [
    {
     "name": "stdout",
     "output_type": "stream",
     "text": [
      "2\n"
     ]
    }
   ],
   "source": [
    "def searchBST(self, key):\n",
    "    assert hasattr(self, \"val\"), \"must be a BST Node\"\n",
    "    p = self\n",
    "    while p is not None :\n",
    "        if p.val == key:\n",
    "            return p\n",
    "        elif p.val < key:\n",
    "            p = p.right\n",
    "        elif p.val > key:\n",
    "            p = p.left\n",
    "    return None\n",
    "\n",
    "TreeNode.search = searchBST\n",
    "result = root.search(2)\n",
    "print(result.val)"
   ]
  },
  {
   "cell_type": "markdown",
   "metadata": {},
   "source": [
    "### Tree traversal\n",
    "\n",
    "traversal is the process of visiting each node in the tree exactly one time.\n",
    "\n",
    "#### BFS\n",
    "\n",
    "visit each node starting from the lowest(highest) level and moving down(up) level by level. You can use a queue to process all the nodes."
   ]
  },
  {
   "cell_type": "code",
   "execution_count": 4,
   "metadata": {},
   "outputs": [
    {
     "name": "stdout",
     "output_type": "stream",
     "text": [
      "[8, 5, 12, 2, 6, 9, 15, 13, 17]\n"
     ]
    }
   ],
   "source": [
    "import queue\n",
    "\n",
    "def traversalBFS(self):\n",
    "    values = []\n",
    "    q = queue.Queue()\n",
    "    p = self\n",
    "    if p is not None:\n",
    "        q.put(p)\n",
    "        while not q.empty() :\n",
    "            p = q.get()\n",
    "            values.append(p.val)\n",
    "            if p.left is not None:\n",
    "                q.put(p.left)\n",
    "            if p.right is not None:\n",
    "                q.put(p.right)\n",
    "    return values\n",
    "\n",
    "TreeNode.traversalBFS = traversalBFS\n",
    "values = root.traversalBFS()\n",
    "print(values)"
   ]
  },
  {
   "cell_type": "markdown",
   "metadata": {},
   "source": [
    "### DFS\n",
    "\n",
    "preorder traversal form, process the current node before going into its children. *All the stacks in the following mehod can be set as an attribute in the TreeNode class.*\n",
    "\n",
    ">Note: this is not in a recursive form."
   ]
  },
  {
   "cell_type": "code",
   "execution_count": 5,
   "metadata": {},
   "outputs": [
    {
     "name": "stdout",
     "output_type": "stream",
     "text": [
      "[8, 5, 2, 6, 12, 9, 15, 13, 17]\n"
     ]
    }
   ],
   "source": [
    "def pre_traversalDFS(self):\n",
    "    values = []\n",
    "    stack = []\n",
    "    stack.append(self)\n",
    "    while len(stack)!=0:\n",
    "        p = stack.pop()\n",
    "        # process the node here\n",
    "        values.append(p.val)\n",
    "        if p.right is not None:\n",
    "            stack.append(p.right)\n",
    "        if p.left is not None:\n",
    "            stack.append(p.left)\n",
    "    return values\n",
    "\n",
    "TreeNode.pre_traversalDFS = pre_traversalDFS\n",
    "value = root.pre_traversalDFS()\n",
    "print(value)"
   ]
  },
  {
   "cell_type": "markdown",
   "metadata": {},
   "source": [
    "Sometimes, we want to process the nodes in order. *For pre-traverse and post-traverse, just switch the place of process code and traverse code.*\n",
    "\n",
    "> Look, we traverse the nodes in order. This traversal method can be used to check whether it's a binary search tree."
   ]
  },
  {
   "cell_type": "code",
   "execution_count": 6,
   "metadata": {},
   "outputs": [
    {
     "name": "stdout",
     "output_type": "stream",
     "text": [
      "[2, 5, 6, 8, 9, 12, 13, 15, 17]\n"
     ]
    }
   ],
   "source": [
    "values = []\n",
    "\n",
    "def order_traversalDFS(self):\n",
    "    if self.left is not None:\n",
    "        self.left.order_traversalDFS()\n",
    "    # process the node here\n",
    "    values.append(self.val)\n",
    "    if self.right is not None:\n",
    "        self.right.order_traversalDFS()\n",
    "\n",
    "TreeNode.order_traversalDFS = order_traversalDFS\n",
    "root.order_traversalDFS()\n",
    "print(values)"
   ]
  },
  {
   "cell_type": "markdown",
   "metadata": {},
   "source": [
    "However, we can still use non-recursive methods to post-traverse the tree.\n",
    "\n",
    "> Here we add the value of the current node after traversing two children."
   ]
  },
  {
   "cell_type": "code",
   "execution_count": 7,
   "metadata": {},
   "outputs": [
    {
     "name": "stdout",
     "output_type": "stream",
     "text": [
      "[2, 6, 5, 9, 13, 17, 15, 12, 8]\n"
     ]
    }
   ],
   "source": [
    "values = []\n",
    "\n",
    "def post_traversal(self):\n",
    "    trav_stack = []\n",
    "    p = self\n",
    "    q = self\n",
    "    while p is not None:\n",
    "        while p.left is not None:\n",
    "            trav_stack.append(p)\n",
    "            p = p.left\n",
    "        while p is not None and (p.right is None or p.right == q):\n",
    "            # process the node here\n",
    "            values.append(p.val)\n",
    "            q = p\n",
    "            if not trav_stack:\n",
    "                return\n",
    "            p = trav_stack.pop()\n",
    "        trav_stack.append(p)\n",
    "        p = p.right\n",
    "\n",
    "TreeNode.post_traversal = post_traversal\n",
    "root.post_traversal()\n",
    "print(values)"
   ]
  },
  {
   "cell_type": "markdown",
   "metadata": {},
   "source": [
    "Non-recursive traversal of inorder-traversal "
   ]
  },
  {
   "cell_type": "code",
   "execution_count": 8,
   "metadata": {},
   "outputs": [
    {
     "name": "stdout",
     "output_type": "stream",
     "text": [
      "[2, 5, 6, 8, 9, 12, 13, 15, 17]\n"
     ]
    }
   ],
   "source": [
    "values = []\n",
    "def inorder_traversal(self):\n",
    "    trav_stack = []\n",
    "    p = self\n",
    "    while p is not None:\n",
    "        while p is not None:\n",
    "            if p.right is not None:\n",
    "                trav_stack.append(p.right)\n",
    "            trav_stack.append(p)\n",
    "            p = p.left\n",
    "        p = trav_stack.pop()\n",
    "        while p.right is None and len(trav_stack)!=0:\n",
    "            values.append(p.val)\n",
    "            p = trav_stack.pop()\n",
    "        values.append(p.val)\n",
    "        if trav_stack:\n",
    "            p = trav_stack.pop()\n",
    "        else :\n",
    "            p = None\n",
    "\n",
    "TreeNode.inorder_traversal = inorder_traversal\n",
    "root.inorder_traversal()\n",
    "print(values)"
   ]
  }
 ],
 "metadata": {
  "kernelspec": {
   "display_name": "Python 3.5.2 64-bit",
   "language": "python",
   "name": "python35264bitec4fc113d9e24df7bf3855d2601f4b2c"
  },
  "language_info": {
   "codemirror_mode": {
    "name": "ipython",
    "version": 3
   },
   "file_extension": ".py",
   "mimetype": "text/x-python",
   "name": "python",
   "nbconvert_exporter": "python",
   "pygments_lexer": "ipython3",
   "version": "3.5.2"
  }
 },
 "nbformat": 4,
 "nbformat_minor": 4
}
