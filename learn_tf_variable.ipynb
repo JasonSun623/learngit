{
 "nbformat": 4,
 "nbformat_minor": 2,
 "metadata": {
  "language_info": {
   "name": "python",
   "codemirror_mode": {
    "name": "ipython",
    "version": 3
   },
   "version": "3.6.9"
  },
  "orig_nbformat": 2,
  "file_extension": ".py",
  "mimetype": "text/x-python",
  "name": "python",
  "npconvert_exporter": "python",
  "pygments_lexer": "ipython3",
  "version": 3
 },
 "cells": [
  {
   "cell_type": "code",
   "execution_count": 1,
   "metadata": {},
   "outputs": [],
   "source": [
    "import tensorflow as tf"
   ]
  },
  {
   "cell_type": "code",
   "execution_count": 2,
   "metadata": {},
   "outputs": [],
   "source": [
    "# linear layer\n",
    "\n",
    "def add_layer(inputs, input_size, output_size, activation_function=None):\n",
    "    Weights = tf.Variable(tf.random_normal([input_size, output_size]))\n",
    "    bias = tf.Variable(tf.zeros([1, output_size])+0.1)\n",
    "    W_plus_b = tf.matmul(inputs, Weights) + bias\n",
    "    if activation_function is None :\n",
    "        outputs = W_plus_b\n",
    "    else :\n",
    "        outputs = activation_function(W_plus_b)\n",
    "    return outputs"
   ]
  },
  {
   "cell_type": "code",
   "execution_count": 5,
   "metadata": {},
   "outputs": [
    {
     "name": "stdout",
     "output_type": "stream",
     "text": "0.1937325\n0.015039837\n0.008568012\n0.0063336007\n0.005423358\n0.0049695126\n0.0046217293\n0.0043065404\n0.0040493053\n0.003855476\n0.0037065535\n0.003605277\n0.0035334222\n0.0034764132\n0.0034374234\n0.0034099158\n0.0033928212\n0.0033809762\n0.0033727598\n0.0033669663\n"
    }
   ],
   "source": [
    "import numpy as np \n",
    "\n",
    "x_data = np.linspace(-1, 1, 300)[:, np.newaxis] # 300 * 1 \n",
    "noise = np.random.normal(0,0.05,x_data.shape)\n",
    "y_data = np.square(x_data) - 0.5 + noise # additive model \n",
    "\n",
    "x = tf.placeholder(tf.float32, [None, 1])\n",
    "y = tf.placeholder(tf.float32, [None, 1])\n",
    "\n",
    "l1 =add_layer(x, 1, 10, activation_function=tf.nn.relu)\n",
    "prediction = add_layer(l1, 10, 1, activation_function=None)\n",
    "\n",
    "loss = tf.reduce_mean(tf.reduce_sum(tf.square(y - prediction), reduction_indices = [1]))\n",
    "train_step = tf.train.GradientDescentOptimizer(0.1).minimize(loss)\n",
    "\n",
    "init = tf.global_variables_initializer()\n",
    "sess = tf.Session()\n",
    "sess.run(init)\n",
    "\n",
    "for i in range(1000):\n",
    "    sess.run(train_step, feed_dict={x:x_data, y:y_data})\n",
    "    if i%50 == 0 :\n",
    "        print(sess.run(loss, feed_dict={x:x_data, y:y_data}))"
   ]
  },
  {
   "cell_type": "code",
   "execution_count": null,
   "metadata": {},
   "outputs": [],
   "source": []
  }
 ]
}