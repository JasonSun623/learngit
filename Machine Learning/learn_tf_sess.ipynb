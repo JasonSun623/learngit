{
 "nbformat": 4,
 "nbformat_minor": 2,
 "metadata": {
  "language_info": {
   "name": "python",
   "codemirror_mode": {
    "name": "ipython",
    "version": 3
   },
   "version": "3.6.9"
  },
  "orig_nbformat": 2,
  "file_extension": ".py",
  "mimetype": "text/x-python",
  "name": "python",
  "npconvert_exporter": "python",
  "pygments_lexer": "ipython3",
  "version": 3
 },
 "cells": [
  {
   "cell_type": "code",
   "metadata": {},
   "outputs": [],
   "source": [
    "import tensorflow as tf"
   ]
  },
  {
   "cell_type": "code",
   "metadata": {},
   "outputs": [],
   "source": [
    "m1 = tf.constant([[3,3]])\n",
    "m2 = tf.constant([[2],[2]])\n",
    "\n",
    "pro = tf.matmul(m1, m2) # construct matrix multiply graph\n",
    "\n",
    "# method1 object session \n",
    "\n",
    "sess = tf.Session()\n",
    "result = sess.run(pro)\n",
    "print(result)\n",
    "sess.close()\n",
    "\n",
    "with tf.Session() as sess:\n",
    "    result = sess.run(product)\n",
    "    print(result)"
   ]
  },
  {
   "cell_type": "code",
   "execution_count": null,
   "metadata": {},
   "outputs": [],
   "source": [
    "# Variable 必须显示指定， 与常量区别\n",
    "state = tf.Variable(1, name=\"counter\") # 指定名称\n",
    "print(state.name)\n",
    "\n",
    "one = tf.constant(1)\n",
    "new = tf.add(state, one)\n",
    "update = tf.assign(state, new)\n",
    "\n",
    "init = tf.global_variables_initializer() # 全局变量初始化\n",
    "\n",
    "with tf.Session() as sess :\n",
    "    sess.run(init)\n",
    "    result = sess.run(update)\n",
    "    print(result)"
   ]
  },
  {
   "cell_type": "code",
   "execution_count": null,
   "metadata": {},
   "outputs": [],
   "source": [
    "import numpy as np\n",
    "\n",
    "input1 = tf.placeholder(tf.float32) # 第二个参数为维度, (也可以不指定？) \n",
    "input2 = tf.placeholder(tf.float32)\n",
    "\n",
    "output = tf.matmul(input1, input2)\n",
    "\n",
    "with tf.Session() as sess:\n",
    "    result = sess.run(output, feed_dict={input1:np.ones([1,3]), input2:np.ones([3,1])})  # placeholder_name:value\n",
    "    print(result)"
   ]
  }
 ]
}